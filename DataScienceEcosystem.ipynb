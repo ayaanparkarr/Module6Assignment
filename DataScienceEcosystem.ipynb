{
  "metadata": {
    "kernelspec": {
      "name": "python",
      "display_name": "Python (Pyodide)",
      "language": "python"
    },
    "language_info": {
      "codemirror_mode": {
        "name": "python",
        "version": 3
      },
      "file_extension": ".py",
      "mimetype": "text/x-python",
      "name": "python",
      "nbconvert_exporter": "python",
      "pygments_lexer": "ipython3",
      "version": "3.8"
    }
  },
  "nbformat_minor": 4,
  "nbformat": 4,
  "cells": [
    {
      "cell_type": "markdown",
      "source": "# __Data Science Tools and Ecosystem__",
      "metadata": {}
    },
    {
      "cell_type": "markdown",
      "source": "In this notebook, Data Science Tools and Ecosytem are summarized.",
      "metadata": {}
    },
    {
      "cell_type": "markdown",
      "source": "__Objectives:__\n- List popular languages for Data Science\n- List popular libraries for Data Science\n- Table of Data Science Tools\n- Examples of Arithmetic Expressions",
      "metadata": {}
    },
    {
      "cell_type": "markdown",
      "source": "__Some of the popular languages that Data Scientists use are:__\n1. Python\n2. R\n3. Julia\n4. SQL",
      "metadata": {}
    },
    {
      "cell_type": "markdown",
      "source": "__Some of the popular libraries used by Data Scientists include:__\n1. Pandas\n2. Scikit-learn\n3. Numpy\n4. Seaborn",
      "metadata": {}
    },
    {
      "cell_type": "markdown",
      "source": "|Data Science Tools| \n| ------ | \n| TensorFlow |\n| Jupyter Notebook|\n| Scikit-Learn |\n\n\n    ",
      "metadata": {}
    },
    {
      "cell_type": "markdown",
      "source": "### Below are a few examples of evaluating arithmetic expressions in Python",
      "metadata": {}
    },
    {
      "cell_type": "code",
      "source": "#This a simple arithmetic expression to mutiply then add integers.\n(3*4)+5\n",
      "metadata": {
        "trusted": true
      },
      "outputs": [
        {
          "execution_count": 5,
          "output_type": "execute_result",
          "data": {
            "text/plain": "17"
          },
          "metadata": {}
        }
      ],
      "execution_count": 5
    },
    {
      "cell_type": "code",
      "source": "# This will convert 200 minutes to hours by diving by 60\nhours=200/60\nprint(\"Hours=\",hours)",
      "metadata": {
        "trusted": true
      },
      "outputs": [
        {
          "name": "stdout",
          "text": "Hours= 3.3333333333333335\n",
          "output_type": "stream"
        }
      ],
      "execution_count": 4
    },
    {
      "cell_type": "markdown",
      "source": "## Author\nAyaan Parkar\n",
      "metadata": {}
    },
    {
      "cell_type": "code",
      "source": "",
      "metadata": {
        "trusted": true
      },
      "outputs": [],
      "execution_count": null
    },
    {
      "cell_type": "code",
      "source": "",
      "metadata": {
        "trusted": true
      },
      "outputs": [],
      "execution_count": null
    }
  ]
}